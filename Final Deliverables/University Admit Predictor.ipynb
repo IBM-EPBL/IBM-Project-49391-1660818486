{
 "cells": [
  {
   "cell_type": "markdown",
   "id": "f0e3971d",
   "metadata": {},
   "source": [
    "## Importing the Libraries"
   ]
  },
  {
   "cell_type": "code",
   "execution_count": 2,
   "id": "1b5babfc",
   "metadata": {},
   "outputs": [],
   "source": [
    "import pandas as pd\n",
    "import numpy as np\n",
    "import pickle\n",
    "import matplotlib.pyplot as plt\n",
    "import seaborn as sns\n"
   ]
  },
  {
   "cell_type": "markdown",
   "id": "bbd55b46",
   "metadata": {},
   "source": [
    "## Reading the Dataset"
   ]
  },
  {
   "cell_type": "code",
   "execution_count": 4,
   "id": "7d8769b1",
   "metadata": {},
   "outputs": [],
   "source": [
    "\n",
    "import os, types\n",
    "import pandas as pd\n",
    "from botocore.client import Config\n",
    "import ibm_boto3\n",
    "\n",
    "def __iter__(self): return 0\n",
    "\n",
    "# @hidden_cell\n",
    "# The following code accesses a file in your IBM Cloud Object Storage. It includes your credentials.\n",
    "# You might want to remove those credentials before you share the notebook.\n",
    "cos_client = ibm_boto3.client(service_name='s3',\n",
    "    ibm_api_key_id='jAvyiAjCe2xdGzZ_VagD5jJC9QXEbDOl7ekTIUswmM_y',\n",
    "    ibm_auth_endpoint=\"https://iam.cloud.ibm.com/oidc/token\",\n",
    "    config=Config(signature_version='oauth'),\n",
    "    endpoint_url='https://s3.private.us.cloud-object-storage.appdomain.cloud')\n",
    "\n",
    "bucket = 'custommodeldeployment-donotdelete-pr-ferh4tyidhtaqr'\n",
    "object_key = 'Admission_Predict.csv'\n",
    "\n",
    "body = cos_client.get_object(Bucket=bucket,Key=object_key)['Body']\n",
    "# add missing __iter__ method, so pandas accepts body as file-like object\n",
    "if not hasattr(body, \"__iter__\"): body.__iter__ = types.MethodType( __iter__, body )\n",
    "\n",
    "data = pd.read_csv(body)\n"
   ]
  },
  {
   "cell_type": "code",
   "execution_count": 5,
   "id": "934404d3",
   "metadata": {},
   "outputs": [
    {
     "data": {
      "text/html": [
       "<div>\n",
       "<style scoped>\n",
       "    .dataframe tbody tr th:only-of-type {\n",
       "        vertical-align: middle;\n",
       "    }\n",
       "\n",
       "    .dataframe tbody tr th {\n",
       "        vertical-align: top;\n",
       "    }\n",
       "\n",
       "    .dataframe thead th {\n",
       "        text-align: right;\n",
       "    }\n",
       "</style>\n",
       "<table border=\"1\" class=\"dataframe\">\n",
       "  <thead>\n",
       "    <tr style=\"text-align: right;\">\n",
       "      <th></th>\n",
       "      <th>Serial No.</th>\n",
       "      <th>GRE Score</th>\n",
       "      <th>TOEFL Score</th>\n",
       "      <th>University Rating</th>\n",
       "      <th>SOP</th>\n",
       "      <th>LOR</th>\n",
       "      <th>CGPA</th>\n",
       "      <th>Research</th>\n",
       "      <th>Chance of Admit</th>\n",
       "    </tr>\n",
       "  </thead>\n",
       "  <tbody>\n",
       "    <tr>\n",
       "      <th>0</th>\n",
       "      <td>1</td>\n",
       "      <td>337</td>\n",
       "      <td>118</td>\n",
       "      <td>4</td>\n",
       "      <td>4.5</td>\n",
       "      <td>4.5</td>\n",
       "      <td>9.65</td>\n",
       "      <td>1</td>\n",
       "      <td>0.92</td>\n",
       "    </tr>\n",
       "    <tr>\n",
       "      <th>1</th>\n",
       "      <td>2</td>\n",
       "      <td>324</td>\n",
       "      <td>107</td>\n",
       "      <td>4</td>\n",
       "      <td>4.0</td>\n",
       "      <td>4.5</td>\n",
       "      <td>8.87</td>\n",
       "      <td>1</td>\n",
       "      <td>0.76</td>\n",
       "    </tr>\n",
       "    <tr>\n",
       "      <th>2</th>\n",
       "      <td>3</td>\n",
       "      <td>316</td>\n",
       "      <td>104</td>\n",
       "      <td>3</td>\n",
       "      <td>3.0</td>\n",
       "      <td>3.5</td>\n",
       "      <td>8.00</td>\n",
       "      <td>1</td>\n",
       "      <td>0.72</td>\n",
       "    </tr>\n",
       "    <tr>\n",
       "      <th>3</th>\n",
       "      <td>4</td>\n",
       "      <td>322</td>\n",
       "      <td>110</td>\n",
       "      <td>3</td>\n",
       "      <td>3.5</td>\n",
       "      <td>2.5</td>\n",
       "      <td>8.67</td>\n",
       "      <td>1</td>\n",
       "      <td>0.80</td>\n",
       "    </tr>\n",
       "    <tr>\n",
       "      <th>4</th>\n",
       "      <td>5</td>\n",
       "      <td>314</td>\n",
       "      <td>103</td>\n",
       "      <td>2</td>\n",
       "      <td>2.0</td>\n",
       "      <td>3.0</td>\n",
       "      <td>8.21</td>\n",
       "      <td>0</td>\n",
       "      <td>0.65</td>\n",
       "    </tr>\n",
       "  </tbody>\n",
       "</table>\n",
       "</div>"
      ],
      "text/plain": [
       "   Serial No.  GRE Score  TOEFL Score  University Rating  SOP  LOR   CGPA  \\\n",
       "0           1        337          118                  4  4.5   4.5  9.65   \n",
       "1           2        324          107                  4  4.0   4.5  8.87   \n",
       "2           3        316          104                  3  3.0   3.5  8.00   \n",
       "3           4        322          110                  3  3.5   2.5  8.67   \n",
       "4           5        314          103                  2  2.0   3.0  8.21   \n",
       "\n",
       "   Research  Chance of Admit   \n",
       "0         1              0.92  \n",
       "1         1              0.76  \n",
       "2         1              0.72  \n",
       "3         1              0.80  \n",
       "4         0              0.65  "
      ]
     },
     "execution_count": 5,
     "metadata": {},
     "output_type": "execute_result"
    }
   ],
   "source": [
    "data.head()"
   ]
  },
  {
   "cell_type": "markdown",
   "id": "3d4d83a3",
   "metadata": {},
   "source": [
    "## Analyze the Data"
   ]
  },
  {
   "cell_type": "code",
   "execution_count": 6,
   "id": "d72fc1a8",
   "metadata": {},
   "outputs": [
    {
     "data": {
      "text/html": [
       "<div>\n",
       "<style scoped>\n",
       "    .dataframe tbody tr th:only-of-type {\n",
       "        vertical-align: middle;\n",
       "    }\n",
       "\n",
       "    .dataframe tbody tr th {\n",
       "        vertical-align: top;\n",
       "    }\n",
       "\n",
       "    .dataframe thead th {\n",
       "        text-align: right;\n",
       "    }\n",
       "</style>\n",
       "<table border=\"1\" class=\"dataframe\">\n",
       "  <thead>\n",
       "    <tr style=\"text-align: right;\">\n",
       "      <th></th>\n",
       "      <th>GRE Score</th>\n",
       "      <th>TOEFL Score</th>\n",
       "      <th>University Rating</th>\n",
       "      <th>SOP</th>\n",
       "      <th>LOR</th>\n",
       "      <th>CGPA</th>\n",
       "      <th>Research</th>\n",
       "      <th>Chance of Admit</th>\n",
       "    </tr>\n",
       "  </thead>\n",
       "  <tbody>\n",
       "    <tr>\n",
       "      <th>0</th>\n",
       "      <td>337</td>\n",
       "      <td>118</td>\n",
       "      <td>4</td>\n",
       "      <td>4.5</td>\n",
       "      <td>4.5</td>\n",
       "      <td>9.65</td>\n",
       "      <td>1</td>\n",
       "      <td>0.92</td>\n",
       "    </tr>\n",
       "    <tr>\n",
       "      <th>1</th>\n",
       "      <td>324</td>\n",
       "      <td>107</td>\n",
       "      <td>4</td>\n",
       "      <td>4.0</td>\n",
       "      <td>4.5</td>\n",
       "      <td>8.87</td>\n",
       "      <td>1</td>\n",
       "      <td>0.76</td>\n",
       "    </tr>\n",
       "    <tr>\n",
       "      <th>2</th>\n",
       "      <td>316</td>\n",
       "      <td>104</td>\n",
       "      <td>3</td>\n",
       "      <td>3.0</td>\n",
       "      <td>3.5</td>\n",
       "      <td>8.00</td>\n",
       "      <td>1</td>\n",
       "      <td>0.72</td>\n",
       "    </tr>\n",
       "    <tr>\n",
       "      <th>3</th>\n",
       "      <td>322</td>\n",
       "      <td>110</td>\n",
       "      <td>3</td>\n",
       "      <td>3.5</td>\n",
       "      <td>2.5</td>\n",
       "      <td>8.67</td>\n",
       "      <td>1</td>\n",
       "      <td>0.80</td>\n",
       "    </tr>\n",
       "    <tr>\n",
       "      <th>4</th>\n",
       "      <td>314</td>\n",
       "      <td>103</td>\n",
       "      <td>2</td>\n",
       "      <td>2.0</td>\n",
       "      <td>3.0</td>\n",
       "      <td>8.21</td>\n",
       "      <td>0</td>\n",
       "      <td>0.65</td>\n",
       "    </tr>\n",
       "    <tr>\n",
       "      <th>...</th>\n",
       "      <td>...</td>\n",
       "      <td>...</td>\n",
       "      <td>...</td>\n",
       "      <td>...</td>\n",
       "      <td>...</td>\n",
       "      <td>...</td>\n",
       "      <td>...</td>\n",
       "      <td>...</td>\n",
       "    </tr>\n",
       "    <tr>\n",
       "      <th>395</th>\n",
       "      <td>324</td>\n",
       "      <td>110</td>\n",
       "      <td>3</td>\n",
       "      <td>3.5</td>\n",
       "      <td>3.5</td>\n",
       "      <td>9.04</td>\n",
       "      <td>1</td>\n",
       "      <td>0.82</td>\n",
       "    </tr>\n",
       "    <tr>\n",
       "      <th>396</th>\n",
       "      <td>325</td>\n",
       "      <td>107</td>\n",
       "      <td>3</td>\n",
       "      <td>3.0</td>\n",
       "      <td>3.5</td>\n",
       "      <td>9.11</td>\n",
       "      <td>1</td>\n",
       "      <td>0.84</td>\n",
       "    </tr>\n",
       "    <tr>\n",
       "      <th>397</th>\n",
       "      <td>330</td>\n",
       "      <td>116</td>\n",
       "      <td>4</td>\n",
       "      <td>5.0</td>\n",
       "      <td>4.5</td>\n",
       "      <td>9.45</td>\n",
       "      <td>1</td>\n",
       "      <td>0.91</td>\n",
       "    </tr>\n",
       "    <tr>\n",
       "      <th>398</th>\n",
       "      <td>312</td>\n",
       "      <td>103</td>\n",
       "      <td>3</td>\n",
       "      <td>3.5</td>\n",
       "      <td>4.0</td>\n",
       "      <td>8.78</td>\n",
       "      <td>0</td>\n",
       "      <td>0.67</td>\n",
       "    </tr>\n",
       "    <tr>\n",
       "      <th>399</th>\n",
       "      <td>333</td>\n",
       "      <td>117</td>\n",
       "      <td>4</td>\n",
       "      <td>5.0</td>\n",
       "      <td>4.0</td>\n",
       "      <td>9.66</td>\n",
       "      <td>1</td>\n",
       "      <td>0.95</td>\n",
       "    </tr>\n",
       "  </tbody>\n",
       "</table>\n",
       "<p>400 rows × 8 columns</p>\n",
       "</div>"
      ],
      "text/plain": [
       "     GRE Score  TOEFL Score  University Rating  SOP  LOR   CGPA  Research  \\\n",
       "0          337          118                  4  4.5   4.5  9.65         1   \n",
       "1          324          107                  4  4.0   4.5  8.87         1   \n",
       "2          316          104                  3  3.0   3.5  8.00         1   \n",
       "3          322          110                  3  3.5   2.5  8.67         1   \n",
       "4          314          103                  2  2.0   3.0  8.21         0   \n",
       "..         ...          ...                ...  ...   ...   ...       ...   \n",
       "395        324          110                  3  3.5   3.5  9.04         1   \n",
       "396        325          107                  3  3.0   3.5  9.11         1   \n",
       "397        330          116                  4  5.0   4.5  9.45         1   \n",
       "398        312          103                  3  3.5   4.0  8.78         0   \n",
       "399        333          117                  4  5.0   4.0  9.66         1   \n",
       "\n",
       "     Chance of Admit   \n",
       "0                0.92  \n",
       "1                0.76  \n",
       "2                0.72  \n",
       "3                0.80  \n",
       "4                0.65  \n",
       "..                ...  \n",
       "395              0.82  \n",
       "396              0.84  \n",
       "397              0.91  \n",
       "398              0.67  \n",
       "399              0.95  \n",
       "\n",
       "[400 rows x 8 columns]"
      ]
     },
     "execution_count": 6,
     "metadata": {},
     "output_type": "execute_result"
    }
   ],
   "source": [
    "admit_df = data.drop('Serial No.', axis=1) \n",
    "admit_df"
   ]
  },
  {
   "cell_type": "code",
   "execution_count": 7,
   "id": "02f32279",
   "metadata": {},
   "outputs": [
    {
     "data": {
      "text/html": [
       "<div>\n",
       "<style scoped>\n",
       "    .dataframe tbody tr th:only-of-type {\n",
       "        vertical-align: middle;\n",
       "    }\n",
       "\n",
       "    .dataframe tbody tr th {\n",
       "        vertical-align: top;\n",
       "    }\n",
       "\n",
       "    .dataframe thead th {\n",
       "        text-align: right;\n",
       "    }\n",
       "</style>\n",
       "<table border=\"1\" class=\"dataframe\">\n",
       "  <thead>\n",
       "    <tr style=\"text-align: right;\">\n",
       "      <th></th>\n",
       "      <th>GRE Score</th>\n",
       "      <th>TOEFL Score</th>\n",
       "      <th>University Rating</th>\n",
       "      <th>SOP</th>\n",
       "      <th>LOR</th>\n",
       "      <th>CGPA</th>\n",
       "      <th>Research</th>\n",
       "      <th>Chance of Admit</th>\n",
       "    </tr>\n",
       "  </thead>\n",
       "  <tbody>\n",
       "    <tr>\n",
       "      <th>count</th>\n",
       "      <td>400.000000</td>\n",
       "      <td>400.000000</td>\n",
       "      <td>400.000000</td>\n",
       "      <td>400.000000</td>\n",
       "      <td>400.000000</td>\n",
       "      <td>400.000000</td>\n",
       "      <td>400.000000</td>\n",
       "      <td>400.000000</td>\n",
       "    </tr>\n",
       "    <tr>\n",
       "      <th>mean</th>\n",
       "      <td>316.807500</td>\n",
       "      <td>107.410000</td>\n",
       "      <td>3.087500</td>\n",
       "      <td>3.400000</td>\n",
       "      <td>3.452500</td>\n",
       "      <td>8.598925</td>\n",
       "      <td>0.547500</td>\n",
       "      <td>0.724350</td>\n",
       "    </tr>\n",
       "    <tr>\n",
       "      <th>std</th>\n",
       "      <td>11.473646</td>\n",
       "      <td>6.069514</td>\n",
       "      <td>1.143728</td>\n",
       "      <td>1.006869</td>\n",
       "      <td>0.898478</td>\n",
       "      <td>0.596317</td>\n",
       "      <td>0.498362</td>\n",
       "      <td>0.142609</td>\n",
       "    </tr>\n",
       "    <tr>\n",
       "      <th>min</th>\n",
       "      <td>290.000000</td>\n",
       "      <td>92.000000</td>\n",
       "      <td>1.000000</td>\n",
       "      <td>1.000000</td>\n",
       "      <td>1.000000</td>\n",
       "      <td>6.800000</td>\n",
       "      <td>0.000000</td>\n",
       "      <td>0.340000</td>\n",
       "    </tr>\n",
       "    <tr>\n",
       "      <th>25%</th>\n",
       "      <td>308.000000</td>\n",
       "      <td>103.000000</td>\n",
       "      <td>2.000000</td>\n",
       "      <td>2.500000</td>\n",
       "      <td>3.000000</td>\n",
       "      <td>8.170000</td>\n",
       "      <td>0.000000</td>\n",
       "      <td>0.640000</td>\n",
       "    </tr>\n",
       "    <tr>\n",
       "      <th>50%</th>\n",
       "      <td>317.000000</td>\n",
       "      <td>107.000000</td>\n",
       "      <td>3.000000</td>\n",
       "      <td>3.500000</td>\n",
       "      <td>3.500000</td>\n",
       "      <td>8.610000</td>\n",
       "      <td>1.000000</td>\n",
       "      <td>0.730000</td>\n",
       "    </tr>\n",
       "    <tr>\n",
       "      <th>75%</th>\n",
       "      <td>325.000000</td>\n",
       "      <td>112.000000</td>\n",
       "      <td>4.000000</td>\n",
       "      <td>4.000000</td>\n",
       "      <td>4.000000</td>\n",
       "      <td>9.062500</td>\n",
       "      <td>1.000000</td>\n",
       "      <td>0.830000</td>\n",
       "    </tr>\n",
       "    <tr>\n",
       "      <th>max</th>\n",
       "      <td>340.000000</td>\n",
       "      <td>120.000000</td>\n",
       "      <td>5.000000</td>\n",
       "      <td>5.000000</td>\n",
       "      <td>5.000000</td>\n",
       "      <td>9.920000</td>\n",
       "      <td>1.000000</td>\n",
       "      <td>0.970000</td>\n",
       "    </tr>\n",
       "  </tbody>\n",
       "</table>\n",
       "</div>"
      ],
      "text/plain": [
       "        GRE Score  TOEFL Score  University Rating         SOP        LOR   \\\n",
       "count  400.000000   400.000000         400.000000  400.000000  400.000000   \n",
       "mean   316.807500   107.410000           3.087500    3.400000    3.452500   \n",
       "std     11.473646     6.069514           1.143728    1.006869    0.898478   \n",
       "min    290.000000    92.000000           1.000000    1.000000    1.000000   \n",
       "25%    308.000000   103.000000           2.000000    2.500000    3.000000   \n",
       "50%    317.000000   107.000000           3.000000    3.500000    3.500000   \n",
       "75%    325.000000   112.000000           4.000000    4.000000    4.000000   \n",
       "max    340.000000   120.000000           5.000000    5.000000    5.000000   \n",
       "\n",
       "             CGPA    Research  Chance of Admit   \n",
       "count  400.000000  400.000000        400.000000  \n",
       "mean     8.598925    0.547500          0.724350  \n",
       "std      0.596317    0.498362          0.142609  \n",
       "min      6.800000    0.000000          0.340000  \n",
       "25%      8.170000    0.000000          0.640000  \n",
       "50%      8.610000    1.000000          0.730000  \n",
       "75%      9.062500    1.000000          0.830000  \n",
       "max      9.920000    1.000000          0.970000  "
      ]
     },
     "execution_count": 7,
     "metadata": {},
     "output_type": "execute_result"
    }
   ],
   "source": [
    "admit_df.describe()"
   ]
  },
  {
   "cell_type": "code",
   "execution_count": 8,
   "id": "556f518d",
   "metadata": {},
   "outputs": [
    {
     "name": "stdout",
     "output_type": "stream",
     "text": [
      "<class 'pandas.core.frame.DataFrame'>\n",
      "RangeIndex: 400 entries, 0 to 399\n",
      "Data columns (total 8 columns):\n",
      " #   Column             Non-Null Count  Dtype  \n",
      "---  ------             --------------  -----  \n",
      " 0   GRE Score          400 non-null    int64  \n",
      " 1   TOEFL Score        400 non-null    int64  \n",
      " 2   University Rating  400 non-null    int64  \n",
      " 3   SOP                400 non-null    float64\n",
      " 4   LOR                400 non-null    float64\n",
      " 5   CGPA               400 non-null    float64\n",
      " 6   Research           400 non-null    int64  \n",
      " 7   Chance of Admit    400 non-null    float64\n",
      "dtypes: float64(4), int64(4)\n",
      "memory usage: 25.1 KB\n"
     ]
    }
   ],
   "source": [
    "admit_df.info()"
   ]
  },
  {
   "cell_type": "markdown",
   "id": "02095265",
   "metadata": {},
   "source": [
    "### Checking for Missing Values"
   ]
  },
  {
   "cell_type": "code",
   "execution_count": 9,
   "id": "57b58b5c",
   "metadata": {},
   "outputs": [
    {
     "data": {
      "text/plain": [
       "GRE Score            0\n",
       "TOEFL Score          0\n",
       "University Rating    0\n",
       "SOP                  0\n",
       "LOR                  0\n",
       "CGPA                 0\n",
       "Research             0\n",
       "Chance of Admit      0\n",
       "dtype: int64"
      ]
     },
     "execution_count": 9,
     "metadata": {},
     "output_type": "execute_result"
    }
   ],
   "source": [
    "admit_df.isnull().sum()"
   ]
  },
  {
   "cell_type": "markdown",
   "id": "052e15ee",
   "metadata": {},
   "source": [
    "### Visualization"
   ]
  },
  {
   "cell_type": "code",
   "execution_count": 10,
   "id": "db0a6956",
   "metadata": {
    "scrolled": true
   },
   "outputs": [
    {
     "data": {
      "text/plain": [
       "array([[<AxesSubplot:title={'center':'GRE Score'}>,\n",
       "        <AxesSubplot:title={'center':'TOEFL Score'}>,\n",
       "        <AxesSubplot:title={'center':'University Rating'}>],\n",
       "       [<AxesSubplot:title={'center':'SOP'}>,\n",
       "        <AxesSubplot:title={'center':'LOR '}>,\n",
       "        <AxesSubplot:title={'center':'CGPA'}>],\n",
       "       [<AxesSubplot:title={'center':'Research'}>,\n",
       "        <AxesSubplot:title={'center':'Chance of Admit '}>,\n",
       "        <AxesSubplot:>]], dtype=object)"
      ]
     },
     "execution_count": 10,
     "metadata": {},
     "output_type": "execute_result"
    },
    {
     "data": {
      "image/png": "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\n",
      "text/plain": [
       "<Figure size 1440x1440 with 9 Axes>"
      ]
     },
     "metadata": {
      "needs_background": "light"
     },
     "output_type": "display_data"
    }
   ],
   "source": [
    "admit_df.hist(bins = 30, figsize = (20,20), color = 'cadetblue')"
   ]
  },
  {
   "cell_type": "code",
   "execution_count": 11,
   "id": "dd5c68e2",
   "metadata": {},
   "outputs": [
    {
     "data": {
      "image/png": "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\n",
      "text/plain": [
       "<Figure size 864x864 with 2 Axes>"
      ]
     },
     "metadata": {
      "needs_background": "light"
     },
     "output_type": "display_data"
    }
   ],
   "source": [
    "corr_matrix = admit_df.corr()\n",
    "plt.figure(figsize = (12,12))\n",
    "sns.heatmap(corr_matrix, annot = True, cmap= \"BrBG\")\n",
    "plt.show()"
   ]
  },
  {
   "cell_type": "code",
   "execution_count": 12,
   "id": "f560b8f4",
   "metadata": {},
   "outputs": [
    {
     "data": {
      "text/plain": [
       "<AxesSubplot:xlabel='University Rating', ylabel='Chance of Admit '>"
      ]
     },
     "execution_count": 12,
     "metadata": {},
     "output_type": "execute_result"
    },
    {
     "data": {
      "image/png": "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\n",
      "text/plain": [
       "<Figure size 432x288 with 1 Axes>"
      ]
     },
     "metadata": {
      "needs_background": "light"
     },
     "output_type": "display_data"
    }
   ],
   "source": [
    "sns.barplot(x=\"University Rating\", y=\"Chance of Admit \", data= admit_df)"
   ]
  },
  {
   "cell_type": "markdown",
   "id": "b135954c",
   "metadata": {},
   "source": [
    "### Splitting dependent and independent variables"
   ]
  },
  {
   "cell_type": "code",
   "execution_count": 13,
   "id": "5c99b8d1",
   "metadata": {},
   "outputs": [
    {
     "data": {
      "text/html": [
       "<div>\n",
       "<style scoped>\n",
       "    .dataframe tbody tr th:only-of-type {\n",
       "        vertical-align: middle;\n",
       "    }\n",
       "\n",
       "    .dataframe tbody tr th {\n",
       "        vertical-align: top;\n",
       "    }\n",
       "\n",
       "    .dataframe thead th {\n",
       "        text-align: right;\n",
       "    }\n",
       "</style>\n",
       "<table border=\"1\" class=\"dataframe\">\n",
       "  <thead>\n",
       "    <tr style=\"text-align: right;\">\n",
       "      <th></th>\n",
       "      <th>GRE Score</th>\n",
       "      <th>TOEFL Score</th>\n",
       "      <th>University Rating</th>\n",
       "      <th>SOP</th>\n",
       "      <th>LOR</th>\n",
       "      <th>CGPA</th>\n",
       "      <th>Research</th>\n",
       "    </tr>\n",
       "  </thead>\n",
       "  <tbody>\n",
       "    <tr>\n",
       "      <th>0</th>\n",
       "      <td>337</td>\n",
       "      <td>118</td>\n",
       "      <td>4</td>\n",
       "      <td>4.5</td>\n",
       "      <td>4.5</td>\n",
       "      <td>9.65</td>\n",
       "      <td>1</td>\n",
       "    </tr>\n",
       "    <tr>\n",
       "      <th>1</th>\n",
       "      <td>324</td>\n",
       "      <td>107</td>\n",
       "      <td>4</td>\n",
       "      <td>4.0</td>\n",
       "      <td>4.5</td>\n",
       "      <td>8.87</td>\n",
       "      <td>1</td>\n",
       "    </tr>\n",
       "    <tr>\n",
       "      <th>2</th>\n",
       "      <td>316</td>\n",
       "      <td>104</td>\n",
       "      <td>3</td>\n",
       "      <td>3.0</td>\n",
       "      <td>3.5</td>\n",
       "      <td>8.00</td>\n",
       "      <td>1</td>\n",
       "    </tr>\n",
       "    <tr>\n",
       "      <th>3</th>\n",
       "      <td>322</td>\n",
       "      <td>110</td>\n",
       "      <td>3</td>\n",
       "      <td>3.5</td>\n",
       "      <td>2.5</td>\n",
       "      <td>8.67</td>\n",
       "      <td>1</td>\n",
       "    </tr>\n",
       "    <tr>\n",
       "      <th>4</th>\n",
       "      <td>314</td>\n",
       "      <td>103</td>\n",
       "      <td>2</td>\n",
       "      <td>2.0</td>\n",
       "      <td>3.0</td>\n",
       "      <td>8.21</td>\n",
       "      <td>0</td>\n",
       "    </tr>\n",
       "  </tbody>\n",
       "</table>\n",
       "</div>"
      ],
      "text/plain": [
       "   GRE Score  TOEFL Score  University Rating  SOP  LOR   CGPA  Research\n",
       "0        337          118                  4  4.5   4.5  9.65         1\n",
       "1        324          107                  4  4.0   4.5  8.87         1\n",
       "2        316          104                  3  3.0   3.5  8.00         1\n",
       "3        322          110                  3  3.5   2.5  8.67         1\n",
       "4        314          103                  2  2.0   3.0  8.21         0"
      ]
     },
     "execution_count": 13,
     "metadata": {},
     "output_type": "execute_result"
    }
   ],
   "source": [
    "x = admit_df.iloc[:, :-1]\n",
    "y = admit_df['Chance of Admit ']\n",
    "x.head()"
   ]
  },
  {
   "cell_type": "code",
   "execution_count": 14,
   "id": "6a17d5f8",
   "metadata": {},
   "outputs": [
    {
     "data": {
      "text/plain": [
       "0    0.92\n",
       "1    0.76\n",
       "2    0.72\n",
       "3    0.80\n",
       "4    0.65\n",
       "Name: Chance of Admit , dtype: float64"
      ]
     },
     "execution_count": 14,
     "metadata": {},
     "output_type": "execute_result"
    }
   ],
   "source": [
    "y.head()"
   ]
  },
  {
   "cell_type": "markdown",
   "id": "b8ea9f1f",
   "metadata": {},
   "source": [
    " ### Train and Test the Data"
   ]
  },
  {
   "cell_type": "code",
   "execution_count": 15,
   "id": "c257c9f5",
   "metadata": {},
   "outputs": [],
   "source": [
    "from sklearn.model_selection import train_test_split \n",
    "x_train, x_test, y_train, y_test = train_test_split(x, y, test_size=0.2, random_state=50)"
   ]
  },
  {
   "cell_type": "code",
   "execution_count": 16,
   "id": "76aef244",
   "metadata": {},
   "outputs": [
    {
     "data": {
      "text/plain": [
       "0.6433205575530629"
      ]
     },
     "execution_count": 16,
     "metadata": {},
     "output_type": "execute_result"
    }
   ],
   "source": [
    "from sklearn.ensemble import GradientBoostingRegressor\n",
    "model = GradientBoostingRegressor()\n",
    "model.fit(x_train,y_train)\n",
    "\n",
    "model.score(x_test,y_test)"
   ]
  },
  {
   "cell_type": "code",
   "execution_count": 17,
   "id": "1b3a6f91",
   "metadata": {},
   "outputs": [],
   "source": [
    "from sklearn.metrics import accuracy_score\n",
    "y_predict=model.predict(x_test)"
   ]
  },
  {
   "cell_type": "code",
   "execution_count": 18,
   "id": "2ea9170c",
   "metadata": {},
   "outputs": [],
   "source": [
    "y_train = (y_train>0.5)\n",
    "y_test = (y_test>0.5)"
   ]
  },
  {
   "cell_type": "code",
   "execution_count": 19,
   "id": "460f3232",
   "metadata": {},
   "outputs": [],
   "source": [
    "from sklearn.linear_model._logistic import LogisticRegression\n",
    "lore = LogisticRegression(random_state=0, max_iter=1000)\n",
    "lr_model = lore.fit(x_train, y_train)\n",
    "y_pred = lr_model.predict(x_test)"
   ]
  },
  {
   "cell_type": "markdown",
   "id": "e046dd9c",
   "metadata": {},
   "source": [
    "### Model Evaluation"
   ]
  },
  {
   "cell_type": "code",
   "execution_count": 20,
   "id": "22787207",
   "metadata": {},
   "outputs": [
    {
     "name": "stdout",
     "output_type": "stream",
     "text": [
      "Accuracy Score: 0.95\n",
      "Recall Score: 0.9615384615384616\n",
      "ROC AUC Score: 0.7307692307692308\n",
      "Confussion Matrix:\n",
      " [[ 1  1]\n",
      " [ 3 75]]\n"
     ]
    }
   ],
   "source": [
    "from sklearn.metrics import accuracy_score, recall_score, roc_auc_score, confusion_matrix\n",
    "\n",
    "print('Accuracy Score:', accuracy_score(y_test, y_pred))  \n",
    "print('Recall Score:', recall_score(y_test, y_pred))  \n",
    "print('ROC AUC Score:', roc_auc_score(y_test, y_pred))\n",
    "print('Confussion Matrix:\\n', confusion_matrix(y_test, y_pred))"
   ]
  },
  {
   "cell_type": "markdown",
   "id": "93075f9d",
   "metadata": {},
   "source": [
    "### Save the model"
   ]
  },
  {
   "cell_type": "code",
   "execution_count": 36,
   "id": "498acdeb",
   "metadata": {},
   "outputs": [],
   "source": [
    "# import pickle\n",
    "# pickle.dump(lr_model, open(\"university.pkl\", 'wb'))\n",
    "# model = pickle.load(open(\"university.pkl\", 'rb'))"
   ]
  },
  {
   "cell_type": "markdown",
   "id": "187ec4b2",
   "metadata": {},
   "source": [
    "## Deploy the model"
   ]
  },
  {
   "cell_type": "code",
   "execution_count": 21,
   "id": "f087fe35",
   "metadata": {},
   "outputs": [
    {
     "name": "stdout",
     "output_type": "stream",
     "text": [
      "Requirement already satisfied: ibm_watson_machine_learning in /opt/conda/envs/Python-3.9/lib/python3.9/site-packages (1.0.257)\n",
      "Requirement already satisfied: requests in /opt/conda/envs/Python-3.9/lib/python3.9/site-packages (from ibm_watson_machine_learning) (2.26.0)\n",
      "Requirement already satisfied: tabulate in /opt/conda/envs/Python-3.9/lib/python3.9/site-packages (from ibm_watson_machine_learning) (0.8.9)\n",
      "Requirement already satisfied: packaging in /opt/conda/envs/Python-3.9/lib/python3.9/site-packages (from ibm_watson_machine_learning) (21.3)\n",
      "Requirement already satisfied: certifi in /opt/conda/envs/Python-3.9/lib/python3.9/site-packages (from ibm_watson_machine_learning) (2022.9.24)\n",
      "Requirement already satisfied: lomond in /opt/conda/envs/Python-3.9/lib/python3.9/site-packages (from ibm_watson_machine_learning) (0.3.3)\n",
      "Requirement already satisfied: ibm-cos-sdk==2.11.* in /opt/conda/envs/Python-3.9/lib/python3.9/site-packages (from ibm_watson_machine_learning) (2.11.0)\n",
      "Requirement already satisfied: importlib-metadata in /opt/conda/envs/Python-3.9/lib/python3.9/site-packages (from ibm_watson_machine_learning) (4.8.2)\n",
      "Requirement already satisfied: pandas<1.5.0,>=0.24.2 in /opt/conda/envs/Python-3.9/lib/python3.9/site-packages (from ibm_watson_machine_learning) (1.3.4)\n",
      "Requirement already satisfied: urllib3 in /opt/conda/envs/Python-3.9/lib/python3.9/site-packages (from ibm_watson_machine_learning) (1.26.7)\n",
      "Requirement already satisfied: ibm-cos-sdk-s3transfer==2.11.0 in /opt/conda/envs/Python-3.9/lib/python3.9/site-packages (from ibm-cos-sdk==2.11.*->ibm_watson_machine_learning) (2.11.0)\n",
      "Requirement already satisfied: jmespath<1.0.0,>=0.7.1 in /opt/conda/envs/Python-3.9/lib/python3.9/site-packages (from ibm-cos-sdk==2.11.*->ibm_watson_machine_learning) (0.10.0)\n",
      "Requirement already satisfied: ibm-cos-sdk-core==2.11.0 in /opt/conda/envs/Python-3.9/lib/python3.9/site-packages (from ibm-cos-sdk==2.11.*->ibm_watson_machine_learning) (2.11.0)\n",
      "Requirement already satisfied: python-dateutil<3.0.0,>=2.1 in /opt/conda/envs/Python-3.9/lib/python3.9/site-packages (from ibm-cos-sdk-core==2.11.0->ibm-cos-sdk==2.11.*->ibm_watson_machine_learning) (2.8.2)\n",
      "Requirement already satisfied: pytz>=2017.3 in /opt/conda/envs/Python-3.9/lib/python3.9/site-packages (from pandas<1.5.0,>=0.24.2->ibm_watson_machine_learning) (2021.3)\n",
      "Requirement already satisfied: numpy>=1.17.3 in /opt/conda/envs/Python-3.9/lib/python3.9/site-packages (from pandas<1.5.0,>=0.24.2->ibm_watson_machine_learning) (1.20.3)\n",
      "Requirement already satisfied: six>=1.5 in /opt/conda/envs/Python-3.9/lib/python3.9/site-packages (from python-dateutil<3.0.0,>=2.1->ibm-cos-sdk-core==2.11.0->ibm-cos-sdk==2.11.*->ibm_watson_machine_learning) (1.15.0)\n",
      "Requirement already satisfied: idna<4,>=2.5 in /opt/conda/envs/Python-3.9/lib/python3.9/site-packages (from requests->ibm_watson_machine_learning) (3.3)\n",
      "Requirement already satisfied: charset-normalizer~=2.0.0 in /opt/conda/envs/Python-3.9/lib/python3.9/site-packages (from requests->ibm_watson_machine_learning) (2.0.4)\n",
      "Requirement already satisfied: zipp>=0.5 in /opt/conda/envs/Python-3.9/lib/python3.9/site-packages (from importlib-metadata->ibm_watson_machine_learning) (3.6.0)\n",
      "Requirement already satisfied: pyparsing!=3.0.5,>=2.0.2 in /opt/conda/envs/Python-3.9/lib/python3.9/site-packages (from packaging->ibm_watson_machine_learning) (3.0.4)\n"
     ]
    }
   ],
   "source": [
    "!pip install ibm_watson_machine_learning"
   ]
  },
  {
   "cell_type": "code",
   "execution_count": 22,
   "id": "d4b12248",
   "metadata": {},
   "outputs": [],
   "source": [
    "from ibm_watson_machine_learning import APIClient\n",
    "import json"
   ]
  },
  {
   "cell_type": "markdown",
   "id": "552eacfc",
   "metadata": {},
   "source": [
    "### Authentication and space id"
   ]
  },
  {
   "cell_type": "code",
   "execution_count": 24,
   "id": "ee80e10b",
   "metadata": {},
   "outputs": [],
   "source": [
    "wml_credentials = {\n",
    "    \"url\": \"https://us-south.ml.cloud.ibm.com\",\n",
    "    \"apikey\": \""\n",
    "}\n",
    "wml_client =APIClient(wml_credentials)"
   ]
  },
  {
   "cell_type": "code",
   "execution_count": 26,
   "id": "5f6c1cea",
   "metadata": {},
   "outputs": [
    {
     "name": "stdout",
     "output_type": "stream",
     "text": [
      "Note: 'limit' is not provided. Only first 50 records will be displayed if the number of records exceed 50\n",
      "------------------------------------  ------  ------------------------\n",
      "ID                                    NAME    CREATED\n",
      "b62c2eee-0bee-4d47-a61c-01c4e455fd2f  models  2022-11-21T06:18:53.003Z\n",
      "------------------------------------  ------  ------------------------\n"
     ]
    }
   ],
   "source": [
    "wml_client.spaces.list()"
   ]
  },
  {
   "cell_type": "code",
   "execution_count": 27,
   "id": "62d48fe7",
   "metadata": {},
   "outputs": [],
   "source": [
    "SPACE_ID=\"b62c2eee-0bee-4d47-a61c-01c4e455fd2f\""
   ]
  },
  {
   "cell_type": "code",
   "execution_count": 28,
   "id": "263083b4",
   "metadata": {},
   "outputs": [
    {
     "data": {
      "text/plain": [
       "'SUCCESS'"
      ]
     },
     "execution_count": 28,
     "metadata": {},
     "output_type": "execute_result"
    }
   ],
   "source": [
    "wml_client.set.default_space(SPACE_ID)"
   ]
  },
  {
   "cell_type": "code",
   "execution_count": 29,
   "id": "d90e0eee",
   "metadata": {},
   "outputs": [
    {
     "name": "stdout",
     "output_type": "stream",
     "text": [
      "-------------------------------  ------------------------------------  ----\n",
      "NAME                             ASSET_ID                              TYPE\n",
      "default_py3.6                    0062b8c9-8b7d-44a0-a9b9-46c416adcbd9  base\n",
      "kernel-spark3.2-scala2.12        020d69ce-7ac1-5e68-ac1a-31189867356a  base\n",
      "pytorch-onnx_1.3-py3.7-edt       069ea134-3346-5748-b513-49120e15d288  base\n",
      "scikit-learn_0.20-py3.6          09c5a1d0-9c1e-4473-a344-eb7b665ff687  base\n",
      "spark-mllib_3.0-scala_2.12       09f4cff0-90a7-5899-b9ed-1ef348aebdee  base\n",
      "pytorch-onnx_rt22.1-py3.9        0b848dd4-e681-5599-be41-b5f6fccc6471  base\n",
      "ai-function_0.1-py3.6            0cdb0f1e-5376-4f4d-92dd-da3b69aa9bda  base\n",
      "shiny-r3.6                       0e6e79df-875e-4f24-8ae9-62dcc2148306  base\n",
      "tensorflow_2.4-py3.7-horovod     1092590a-307d-563d-9b62-4eb7d64b3f22  base\n",
      "pytorch_1.1-py3.6                10ac12d6-6b30-4ccd-8392-3e922c096a92  base\n",
      "tensorflow_1.15-py3.6-ddl        111e41b3-de2d-5422-a4d6-bf776828c4b7  base\n",
      "autoai-kb_rt22.2-py3.10          125b6d9a-5b1f-5e8d-972a-b251688ccf40  base\n",
      "runtime-22.1-py3.9               12b83a17-24d8-5082-900f-0ab31fbfd3cb  base\n",
      "scikit-learn_0.22-py3.6          154010fa-5b3b-4ac1-82af-4d5ee5abbc85  base\n",
      "default_r3.6                     1b70aec3-ab34-4b87-8aa0-a4a3c8296a36  base\n",
      "pytorch-onnx_1.3-py3.6           1bc6029a-cc97-56da-b8e0-39c3880dbbe7  base\n",
      "kernel-spark3.3-r3.6             1c9e5454-f216-59dd-a20e-474a5cdf5988  base\n",
      "pytorch-onnx_rt22.1-py3.9-edt    1d362186-7ad5-5b59-8b6c-9d0880bde37f  base\n",
      "tensorflow_2.1-py3.6             1eb25b84-d6ed-5dde-b6a5-3fbdf1665666  base\n",
      "spark-mllib_3.2                  20047f72-0a98-58c7-9ff5-a77b012eb8f5  base\n",
      "tensorflow_2.4-py3.8-horovod     217c16f6-178f-56bf-824a-b19f20564c49  base\n",
      "runtime-22.1-py3.9-cuda          26215f05-08c3-5a41-a1b0-da66306ce658  base\n",
      "do_py3.8                         295addb5-9ef9-547e-9bf4-92ae3563e720  base\n",
      "autoai-ts_3.8-py3.8              2aa0c932-798f-5ae9-abd6-15e0c2402fb5  base\n",
      "tensorflow_1.15-py3.6            2b73a275-7cbf-420b-a912-eae7f436e0bc  base\n",
      "kernel-spark3.3-py3.9            2b7961e2-e3b1-5a8c-a491-482c8368839a  base\n",
      "pytorch_1.2-py3.6                2c8ef57d-2687-4b7d-acce-01f94976dac1  base\n",
      "spark-mllib_2.3                  2e51f700-bca0-4b0d-88dc-5c6791338875  base\n",
      "pytorch-onnx_1.1-py3.6-edt       32983cea-3f32-4400-8965-dde874a8d67e  base\n",
      "spark-mllib_3.0-py37             36507ebe-8770-55ba-ab2a-eafe787600e9  base\n",
      "spark-mllib_2.4                  390d21f8-e58b-4fac-9c55-d7ceda621326  base\n",
      "autoai-ts_rt22.2-py3.10          396b2e83-0953-5b86-9a55-7ce1628a406f  base\n",
      "xgboost_0.82-py3.6               39e31acd-5f30-41dc-ae44-60233c80306e  base\n",
      "pytorch-onnx_1.2-py3.6-edt       40589d0e-7019-4e28-8daa-fb03b6f4fe12  base\n",
      "pytorch-onnx_rt22.2-py3.10       40e73f55-783a-5535-b3fa-0c8b94291431  base\n",
      "default_r36py38                  41c247d3-45f8-5a71-b065-8580229facf0  base\n",
      "autoai-ts_rt22.1-py3.9           4269d26e-07ba-5d40-8f66-2d495b0c71f7  base\n",
      "autoai-obm_3.0                   42b92e18-d9ab-567f-988a-4240ba1ed5f7  base\n",
      "pmml-3.0_4.3                     493bcb95-16f1-5bc5-bee8-81b8af80e9c7  base\n",
      "spark-mllib_2.4-r_3.6            49403dff-92e9-4c87-a3d7-a42d0021c095  base\n",
      "xgboost_0.90-py3.6               4ff8d6c2-1343-4c18-85e1-689c965304d3  base\n",
      "pytorch-onnx_1.1-py3.6           50f95b2a-bc16-43bb-bc94-b0bed208c60b  base\n",
      "autoai-ts_3.9-py3.8              52c57136-80fa-572e-8728-a5e7cbb42cde  base\n",
      "spark-mllib_2.4-scala_2.11       55a70f99-7320-4be5-9fb9-9edb5a443af5  base\n",
      "spark-mllib_3.0                  5c1b0ca2-4977-5c2e-9439-ffd44ea8ffe9  base\n",
      "autoai-obm_2.0                   5c2e37fa-80b8-5e77-840f-d912469614ee  base\n",
      "spss-modeler_18.1                5c3cad7e-507f-4b2a-a9a3-ab53a21dee8b  base\n",
      "cuda-py3.8                       5d3232bf-c86b-5df4-a2cd-7bb870a1cd4e  base\n",
      "runtime-22.2-py3.10-xc           5e8cddff-db4a-5a6a-b8aa-2d4af9864dab  base\n",
      "autoai-kb_3.1-py3.7              632d4b22-10aa-5180-88f0-f52dfb6444d7  base\n",
      "pytorch-onnx_1.7-py3.8           634d3cdc-b562-5bf9-a2d4-ea90a478456b  base\n",
      "spark-mllib_2.3-r_3.6            6586b9e3-ccd6-4f92-900f-0f8cb2bd6f0c  base\n",
      "tensorflow_2.4-py3.7             65e171d7-72d1-55d9-8ebb-f813d620c9bb  base\n",
      "spss-modeler_18.2                687eddc9-028a-4117-b9dd-e57b36f1efa5  base\n",
      "pytorch-onnx_1.2-py3.6           692a6a4d-2c4d-45ff-a1ed-b167ee55469a  base\n",
      "spark-mllib_2.3-scala_2.11       7963efe5-bbec-417e-92cf-0574e21b4e8d  base\n",
      "spark-mllib_2.4-py37             7abc992b-b685-532b-a122-a396a3cdbaab  base\n",
      "caffe_1.0-py3.6                  7bb3dbe2-da6e-4145-918d-b6d84aa93b6b  base\n",
      "pytorch-onnx_1.7-py3.7           812c6631-42b7-5613-982b-02098e6c909c  base\n",
      "cuda-py3.6                       82c79ece-4d12-40e6-8787-a7b9e0f62770  base\n",
      "tensorflow_1.15-py3.6-horovod    8964680e-d5e4-5bb8-919b-8342c6c0dfd8  base\n",
      "hybrid_0.1                       8c1a58c6-62b5-4dc4-987a-df751c2756b6  base\n",
      "pytorch-onnx_1.3-py3.7           8d5d8a87-a912-54cf-81ec-3914adaa988d  base\n",
      "caffe-ibm_1.0-py3.6              8d863266-7927-4d1e-97d7-56a7f4c0a19b  base\n",
      "runtime-22.2-py3.10-cuda         8ef391e4-ef58-5d46-b078-a82c211c1058  base\n",
      "spss-modeler_17.1                902d0051-84bd-4af6-ab6b-8f6aa6fdeabb  base\n",
      "do_12.10                         9100fd72-8159-4eb9-8a0b-a87e12eefa36  base\n",
      "do_py3.7                         9447fa8b-2051-4d24-9eef-5acb0e3c59f8  base\n",
      "spark-mllib_3.0-r_3.6            94bb6052-c837-589d-83f1-f4142f219e32  base\n",
      "cuda-py3.7-opence                94e9652b-7f2d-59d5-ba5a-23a414ea488f  base\n",
      "nlp-py3.8                        96e60351-99d4-5a1c-9cc0-473ac1b5a864  base\n",
      "cuda-py3.7                       9a44990c-1aa1-4c7d-baf8-c4099011741c  base\n",
      "hybrid_0.2                       9b3f9040-9cee-4ead-8d7a-780600f542f7  base\n",
      "spark-mllib_3.0-py38             9f7a8fc1-4d3c-5e65-ab90-41fa8de2d418  base\n",
      "autoai-kb_3.3-py3.7              a545cca3-02df-5c61-9e88-998b09dc79af  base\n",
      "spark-mllib_3.0-py39             a6082a27-5acc-5163-b02c-6b96916eb5e0  base\n",
      "runtime-22.1-py3.9-do            a7e7dbf1-1d03-5544-994d-e5ec845ce99a  base\n",
      "default_py3.8                    ab9e1b80-f2ce-592c-a7d2-4f2344f77194  base\n",
      "tensorflow_rt22.1-py3.9          acd9c798-6974-5d2f-a657-ce06e986df4d  base\n",
      "kernel-spark3.2-py3.9            ad7033ee-794e-58cf-812e-a95f4b64b207  base\n",
      "autoai-obm_2.0 with Spark 3.0    af10f35f-69fa-5d66-9bf5-acb58434263a  base\n",
      "runtime-22.2-py3.10              b56101f1-309d-549b-a849-eaa63f77b2fb  base\n",
      "default_py3.7_opence             c2057dd4-f42c-5f77-a02f-72bdbd3282c9  base\n",
      "tensorflow_2.1-py3.7             c4032338-2a40-500a-beef-b01ab2667e27  base\n",
      "do_py3.7_opence                  cc8f8976-b74a-551a-bb66-6377f8d865b4  base\n",
      "spark-mllib_3.3                  d11f2434-4fc7-58b7-8a62-755da64fdaf8  base\n",
      "autoai-kb_3.0-py3.6              d139f196-e04b-5d8b-9140-9a10ca1fa91a  base\n",
      "spark-mllib_3.0-py36             d82546d5-dd78-5fbb-9131-2ec309bc56ed  base\n",
      "autoai-kb_3.4-py3.8              da9b39c3-758c-5a4f-9cfd-457dd4d8c395  base\n",
      "kernel-spark3.2-r3.6             db2fe4d6-d641-5d05-9972-73c654c60e0a  base\n",
      "autoai-kb_rt22.1-py3.9           db6afe93-665f-5910-b117-d879897404d9  base\n",
      "tensorflow_rt22.1-py3.9-horovod  dda170cc-ca67-5da7-9b7a-cf84c6987fae  base\n",
      "autoai-ts_1.0-py3.7              deef04f0-0c42-5147-9711-89f9904299db  base\n",
      "tensorflow_2.1-py3.7-horovod     e384fce5-fdd1-53f8-bc71-11326c9c635f  base\n",
      "default_py3.7                    e4429883-c883-42b6-87a8-f419d64088cd  base\n",
      "do_22.1                          e51999ba-6452-5f1f-8287-17228b88b652  base\n",
      "autoai-obm_3.2                   eae86aab-da30-5229-a6a6-1d0d4e368983  base\n",
      "runtime-22.2-r4.2                ec0a3d28-08f7-556c-9674-ca7c2dba30bd  base\n",
      "tensorflow_rt22.2-py3.10         f65bd165-f057-55de-b5cb-f97cf2c0f393  base\n",
      "do_20.1                          f686cdd9-7904-5f9d-a732-01b0d6b10dc5  base\n",
      "pytorch-onnx_rt22.2-py3.10-edt   f8a05d07-e7cd-57bb-a10b-23f1d4b837ac  base\n",
      "scikit-learn_0.19-py3.6          f963fa9d-4bb7-5652-9c5d-8d9289ef6ad9  base\n",
      "tensorflow_2.4-py3.8             fe185c44-9a99-5425-986b-59bd1d2eda46  base\n",
      "-------------------------------  ------------------------------------  ----\n"
     ]
    }
   ],
   "source": [
    "wml_client.software_specifications.list(500)"
   ]
  },
  {
   "cell_type": "markdown",
   "id": "5434b20b",
   "metadata": {},
   "source": [
    "### Save and deploy"
   ]
  },
  {
   "cell_type": "code",
   "execution_count": 32,
   "id": "b4629845",
   "metadata": {},
   "outputs": [
    {
     "data": {
      "text/plain": [
       "'1.0.2'"
      ]
     },
     "execution_count": 32,
     "metadata": {},
     "output_type": "execute_result"
    }
   ],
   "source": [
    "import sklearn\n",
    "sklearn.__version__"
   ]
  },
  {
   "cell_type": "code",
   "execution_count": 33,
   "id": "de72e6b1",
   "metadata": {},
   "outputs": [],
   "source": [
    "MODEL_NAME = 'univ_ad'\n",
    "DEPLOYMENT_NAME = 'iris_adm'\n",
    "DEMO_MODEL = lr_model"
   ]
  },
  {
   "cell_type": "code",
   "execution_count": 38,
   "id": "fdce64ac",
   "metadata": {},
   "outputs": [
    {
     "data": {
      "text/plain": [
       "{'entity': {'hybrid_pipeline_software_specs': [],\n",
       "  'label_column': 'Chance of Admit ',\n",
       "  'schemas': {'input': [{'fields': [{'name': 'GRE Score', 'type': 'int64'},\n",
       "      {'name': 'TOEFL Score', 'type': 'int64'},\n",
       "      {'name': 'University Rating', 'type': 'int64'},\n",
       "      {'name': 'SOP', 'type': 'float64'},\n",
       "      {'name': 'LOR ', 'type': 'float64'},\n",
       "      {'name': 'CGPA', 'type': 'float64'},\n",
       "      {'name': 'Research', 'type': 'int64'}],\n",
       "     'id': '1',\n",
       "     'type': 'struct'}],\n",
       "   'output': []},\n",
       "  'software_spec': {'id': '12b83a17-24d8-5082-900f-0ab31fbfd3cb',\n",
       "   'name': 'runtime-22.1-py3.9'},\n",
       "  'type': 'scikit-learn_1.0'},\n",
       " 'metadata': {'created_at': '2022-11-21T07:00:13.341Z',\n",
       "  'id': '16f97356-8d39-479e-92cf-301a55f6ea1b',\n",
       "  'modified_at': '2022-11-21T07:00:15.686Z',\n",
       "  'name': 'univ_ad',\n",
       "  'owner': 'IBMid-66300457A2',\n",
       "  'resource_key': 'd22e05c1-071a-4d83-bb4b-77f7a41a9791',\n",
       "  'space_id': 'b62c2eee-0bee-4d47-a61c-01c4e455fd2f'},\n",
       " 'system': {'warnings': []}}"
      ]
     },
     "execution_count": 38,
     "metadata": {},
     "output_type": "execute_result"
    }
   ],
   "source": [
    "software_spec_uid = wml_client.software_specifications.get_id_by_name('runtime-22.1-py3.9')\n",
    "\n",
    "model_props = {\n",
    "    wml_client.repository.ModelMetaNames.NAME: MODEL_NAME,\n",
    "    wml_client.repository.ModelMetaNames.TYPE: 'scikit-learn_1.0',\n",
    "    wml_client.repository.ModelMetaNames.SOFTWARE_SPEC_UID: software_spec_uid\n",
    "}\n",
    "\n",
    "model_details = wml_client.repository.store_model(\n",
    "    model = DEMO_MODEL,\n",
    "    meta_props = model_props,\n",
    "    training_data = x_train,\n",
    "    training_target = y_train\n",
    ")\n",
    "\n",
    "\n",
    "model_details"
   ]
  },
  {
   "cell_type": "code",
   "execution_count": 35,
   "id": "29d126fc",
   "metadata": {},
   "outputs": [
    {
     "data": {
      "text/plain": [
       "'c407730f-d753-4fdd-be71-344cb6feff9a'"
      ]
     },
     "execution_count": 35,
     "metadata": {},
     "output_type": "execute_result"
    }
   ],
   "source": [
    "model_id = wml_client.repository.get_model_id(model_details)\n",
    "model_id"
   ]
  },
  {
   "cell_type": "code",
   "execution_count": 37,
   "id": "7ad9e20d",
   "metadata": {},
   "outputs": [
    {
     "name": "stdout",
     "output_type": "stream",
     "text": [
      "\n",
      "\n",
      "#######################################################################################\n",
      "\n",
      "Synchronous deployment creation for uid: 'c407730f-d753-4fdd-be71-344cb6feff9a' started\n",
      "\n",
      "#######################################################################################\n",
      "\n",
      "\n",
      "initializing\n",
      "Note: online_url is deprecated and will be removed in a future release. Use serving_urls instead.\n",
      "\n",
      "ready\n",
      "\n",
      "\n",
      "------------------------------------------------------------------------------------------------\n",
      "Successfully finished deployment creation, deployment_uid='7836bf33-0380-420e-a622-e40e7c95b70d'\n",
      "------------------------------------------------------------------------------------------------\n",
      "\n",
      "\n"
     ]
    }
   ],
   "source": [
    "deployment_props = {\n",
    "    wml_client.deployments.ConfigurationMetaNames.NAME:DEPLOYMENT_NAME,\n",
    "    wml_client.deployments.ConfigurationMetaNames.ONLINE: {}\n",
    "}\n",
    "\n",
    "deployment = wml_client.deployments.create(\n",
    "    artifact_uid = model_id,\n",
    "    meta_props = deployment_props\n",
    ")"
   ]
  },
  {
   "cell_type": "code",
   "execution_count": null,
   "id": "92223ed7",
   "metadata": {},
   "outputs": [],
   "source": []
  }
 ],
 "metadata": {
  "kernelspec": {
   "display_name": "Python 3 (ipykernel)",
   "language": "python",
   "name": "python3"
  },
  "language_info": {
   "codemirror_mode": {
    "name": "ipython",
    "version": 3
   },
   "file_extension": ".py",
   "mimetype": "text/x-python",
   "name": "python",
   "nbconvert_exporter": "python",
   "pygments_lexer": "ipython3",
   "version": "3.9.7"
  }
 },
 "nbformat": 4,
 "nbformat_minor": 5
}
